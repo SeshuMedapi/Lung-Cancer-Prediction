{
 "cells": [
  {
   "cell_type": "code",
   "execution_count": 1,
   "metadata": {},
   "outputs": [],
   "source": [
    "import tensorflow as tf\n",
    "import numpy as np\n",
    "import pandas as pd\n",
    "import matplotlib.pyplot as plt\n",
    "import seaborn as sns\n",
    "from scipy.stats import entropy"
   ]
  },
  {
   "cell_type": "code",
   "execution_count": 11,
   "metadata": {},
   "outputs": [],
   "source": [
    "# KL Divergence for each feature\n",
    "def kl_divergence(feature_name, dataset):\n",
    "    neg_feature_data = dataset[dataset['label'] == 0][feature_name] # 负样本数据\n",
    "    pos_feature_data = dataset[dataset['label'] == 1][feature_name] # 正样本数据\n",
    "\n",
    "    min_value = min(neg_feature_data.min(), pos_feature_data.min())\n",
    "    max_value = max(neg_feature_data.max(), pos_feature_data.max())\n",
    "    # min_value = pos_feature_data.min() if neg_feature_data.min() > pos_feature_data.min() else neg_feature_data.min()\n",
    "    # max_value = neg_feature_data.max() if neg_feature_data.max() > pos_feature_data.max() else pos_feature_data.max()\n",
    "    c = 0\n",
    "    if(c==0):\n",
    "        plt.hist(neg_feature_data, bins = 10, range=(min_value, max_value), density = True, alpha = 0.5, label = 'neg', color = 'red')\n",
    "        plt.hist(pos_feature_data, bins = 10, range=(min_value, max_value), density = True, alpha = 0.5, label = 'pos', color = 'blue')\n",
    "        plt.legend()\n",
    "        plt.show()\n",
    "        c = 1\n",
    "    neg_hist, neg_bin = np.histogram(neg_feature_data, bins = 10, range=(min_value, max_value), density = True)\n",
    "    pos_hist, pos_bin = np.histogram(pos_feature_data, bins = 10, range=(min_value, max_value), density = True)\n",
    "    pos_hist[pos_hist == 0] = 1e-7\n",
    "    neg_hist[neg_hist == 0] = 1e-7\n",
    "    return entropy(neg_hist, pos_hist, base = 2)\n"
   ]
  },
  {
   "cell_type": "code",
   "execution_count": 9,
   "metadata": {},
   "outputs": [],
   "source": [
    "def get_all_kl_divergence(df):\n",
    "    features =[]\n",
    "    feature_kl = []\n",
    "    size = len(df.columns)\n",
    "    i = 0\n",
    "    # print(df[df.columns[19944]])\n",
    "    for feature in df.columns: \n",
    "        if feature == 'label' or feature == 'file_id':\n",
    "            continue\n",
    "        features.append(feature)\n",
    "        feature_kl.append(kl_divergence(feature, df))\n",
    "        i = i + 1\n",
    "        print('process:{} / {}'.format(i, feature))\n",
    "    kl_feature_dataset = pd.DataFrame()\n",
    "    kl_feature_dataset['feature_name'] = features\n",
    "    kl_feature_dataset['kl_divergence'] = feature_kl\n",
    "    final = kl_feature_dataset.sort_values('kl_divergence', ascending=False)\n",
    "    return final"
   ]
  },
  {
   "cell_type": "code",
   "execution_count": 12,
   "metadata": {},
   "outputs": [
    {
     "data": {
      "image/png": "[encoded data removed]",
      "text/plain": [
       "<Figure size 640x480 with 1 Axes>"
      ]
     },
     "metadata": {},
     "output_type": "display_data"
    },
    {
     "name": "stdout",
     "output_type": "stream",
     "text": [
      "process:1 / GYPE\n"
     ]
    },
    {
     "data": {
      "text/html": [
       "<div>\n",
       "<style scoped>\n",
       "    .dataframe tbody tr th:only-of-type {\n",
       "        vertical-align: middle;\n",
       "    }\n",
       "\n",
       "    .dataframe tbody tr th {\n",
       "        vertical-align: top;\n",
       "    }\n",
       "\n",
       "    .dataframe thead th {\n",
       "        text-align: right;\n",
       "    }\n",
       "</style>\n",
       "<table border=\"1\" class=\"dataframe\">\n",
       "  <thead>\n",
       "    <tr style=\"text-align: right;\">\n",
       "      <th></th>\n",
       "      <th>feature_name</th>\n",
       "      <th>kl_divergence</th>\n",
       "    </tr>\n",
       "  </thead>\n",
       "  <tbody>\n",
       "    <tr>\n",
       "      <th>0</th>\n",
       "      <td>GYPE</td>\n",
       "      <td>5.867323</td>\n",
       "    </tr>\n",
       "  </tbody>\n",
       "</table>\n",
       "</div>"
      ],
      "text/plain": [
       "  feature_name  kl_divergence\n",
       "0         GYPE       5.867323"
      ]
     },
     "execution_count": 12,
     "metadata": {},
     "output_type": "execute_result"
    }
   ],
   "source": [
    "# Read the preprocessed data and calculate the KL divergence for each feature\n",
    "df = pd.read_csv('TCGA_Labeled.csv', index_col = 0)\n",
    "dd = get_all_kl_divergence(df)\n",
    "choosed_features = dd[dd['kl_divergence'] > 3].reset_index(drop = True)\n",
    "choosed_features\n"
   ]
  },
  {
   "cell_type": "code",
   "execution_count": 22,
   "metadata": {},
   "outputs": [
    {
     "data": {
      "text/plain": [
       "Index(['STX11', 'GYPE', 'ADRB2', 'CD5L', 'ANGPT4', 'GPM6A', 'NCKAP5',\n",
       "       'CD300LG', 'SGCG', 'KCNA4',\n",
       "       ...\n",
       "       'FRMD3', 'EPAS1', 'ARHGAP6', 'PIP5K1B', 'ADRB1', 'ARHGEF15', 'ACTN2',\n",
       "       'ARHGAP31', 'ERG', 'label'],\n",
       "      dtype='object', length=135)"
      ]
     },
     "execution_count": 22,
     "metadata": {},
     "output_type": "execute_result"
    }
   ],
   "source": [
    "# Filtering the choosed 134 features from the original dataset\n",
    "index_columns = np.append(choosed_features['feature_name'].values, ['label'])\n",
    "df_choosed = df[index_columns]\n",
    "df_choosed.to_csv('TCGA_Labeled_Final_Features.csv')\n",
    "\n",
    "df_choosed.columns\n"
   ]
  }
 ],
 "metadata": {
  "kernelspec": {
   "display_name": "Python 3",
   "language": "python",
   "name": "python3"
  },
  "language_info": {
   "codemirror_mode": {
    "name": "ipython",
    "version": 3
   },
   "file_extension": ".py",
   "mimetype": "text/x-python",
   "name": "python",
   "nbconvert_exporter": "python",
   "pygments_lexer": "ipython3",
   "version": "3.10.5"
  },
  "orig_nbformat": 4
 },
 "nbformat": 4,
 "nbformat_minor": 2
}
